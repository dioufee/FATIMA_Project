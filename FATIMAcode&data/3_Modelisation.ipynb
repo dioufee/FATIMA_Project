{
 "cells": [
  {
   "cell_type": "code",
   "execution_count": 1,
   "id": "f3b79380-bf8f-48d4-b315-92028ad73f0b",
   "metadata": {},
   "outputs": [
    {
     "name": "stderr",
     "output_type": "stream",
     "text": [
      "Loading required package: caTools\n",
      "\n",
      "Loading required package: ggplot2\n",
      "\n",
      "Loading required package: lattice\n",
      "\n",
      "Warning message in system(\"timedatectl\", intern = TRUE):\n",
      "“running command 'timedatectl' had status 1”\n",
      "\n",
      "Attaching package: ‘dplyr’\n",
      "\n",
      "\n",
      "The following object is masked from ‘package:nlme’:\n",
      "\n",
      "    collapse\n",
      "\n",
      "\n",
      "The following objects are masked from ‘package:data.table’:\n",
      "\n",
      "    between, first, last\n",
      "\n",
      "\n",
      "The following objects are masked from ‘package:stats’:\n",
      "\n",
      "    filter, lag\n",
      "\n",
      "\n",
      "The following objects are masked from ‘package:base’:\n",
      "\n",
      "    intersect, setdiff, setequal, union\n",
      "\n",
      "\n"
     ]
    }
   ],
   "source": [
    "require(caTools)\n",
    "library(data.table)\n",
    "library(nlme)\n",
    "library(caret)\n",
    "library(ggplot2)\n",
    "library(dplyr)"
   ]
  },
  {
   "cell_type": "code",
   "execution_count": 2,
   "id": "9b0b86cc-3175-49da-a3bb-dbec5b90c9e3",
   "metadata": {},
   "outputs": [
    {
     "data": {
      "text/html": [
       "<style>\n",
       ".list-inline {list-style: none; margin:0; padding: 0}\n",
       ".list-inline>li {display: inline-block}\n",
       ".list-inline>li:not(:last-child)::after {content: \"\\00b7\"; padding: 0 .5ex}\n",
       "</style>\n",
       "<ol class=list-inline><li>'GRCI'</li><li>'VIgreen'</li><li>'NDSVI'</li><li>'RVI3'</li><li>'RVI2'</li><li>'ADF'</li></ol>\n"
      ],
      "text/latex": [
       "\\begin{enumerate*}\n",
       "\\item 'GRCI'\n",
       "\\item 'VIgreen'\n",
       "\\item 'NDSVI'\n",
       "\\item 'RVI3'\n",
       "\\item 'RVI2'\n",
       "\\item 'ADF'\n",
       "\\end{enumerate*}\n"
      ],
      "text/markdown": [
       "1. 'GRCI'\n",
       "2. 'VIgreen'\n",
       "3. 'NDSVI'\n",
       "4. 'RVI3'\n",
       "5. 'RVI2'\n",
       "6. 'ADF'\n",
       "\n",
       "\n"
      ],
      "text/plain": [
       "[1] \"GRCI\"    \"VIgreen\" \"NDSVI\"   \"RVI3\"    \"RVI2\"    \"ADF\"    "
      ]
     },
     "metadata": {},
     "output_type": "display_data"
    }
   ],
   "source": [
    "#1.MAT...................\n",
    "#Import data from disk dataset after RFE & VIF\n",
    "sentinel_site_ADF <- read.csv('/home/eoafrica/FATIMA_Project/M2021/BD_BH_VIF/bd_bh_adf.csv', header = TRUE)\n",
    "sentinel_site_ADF <- sentinel_site_ADF[2:7]\n",
    "names(sentinel_site_ADF)"
   ]
  },
  {
   "cell_type": "code",
   "execution_count": 3,
   "id": "b0b29f6b-75cb-404b-b1e2-8b04216439c3",
   "metadata": {},
   "outputs": [],
   "source": [
    "model_list_ADF<- list()\n",
    "resultList_ADF <- data.frame()\n",
    "#Train lm with all combinations\n",
    "list_comb_ADF=list() # je crÃ©e une liste pour stocker les combinaisons\n",
    "idx=1 # la liste commence pas l'indice 1\n",
    "for (x in 2:5){\n",
    "  new_comb_ADF = combn(c(\"GRCI\", 'VIgreen', \"NDSVI\", 'RVI3', \"RVI2\"), x) # as.data.frame: pas la peine de mettre cela sous forme d'un data frame juste la combn fait sortir cela en array\n",
    "  for (i in 1: dim (new_comb_ADF)[2]) {\n",
    "    list_comb_ADF[idx]= paste(new_comb_ADF[,i], collapse=\"+\")# la combinaison a mettre a chaque ligne \n",
    "    idx = idx + 1\n",
    "    \n",
    "  }\n",
    "} \n",
    "#print(list_comb_ADF)"
   ]
  },
  {
   "cell_type": "code",
   "execution_count": 8,
   "id": "a149f7b2-9ff9-44cc-b41b-0fbcacbd1138",
   "metadata": {},
   "outputs": [],
   "source": [
    "MLM_formula = paste(\"ADF\", list_comb_ADF , sep=\"~\")\n",
    "\n",
    "for (j in 1:length(MLM_formula)){\n",
    "  set.seed(102)\n",
    "     reg_model_ADF <- lm(MLM_formula[15], data= sentinel_site_ADF)\n",
    "     result_ADF <- summary(reg_model_ADF)\n",
    "     resultList_ADF[j,1] <- (MLM_formula)[j]\n",
    "     resultList_ADF[j,2] <- result_ADF$r.squared\n",
    "    \n",
    "}  \n",
    "\n",
    "names(resultList_ADF) <- c(\"MLM\",\"R2cal\")"
   ]
  },
  {
   "cell_type": "code",
   "execution_count": 9,
   "id": "a568993a-3a49-4bd2-a19d-f5b784acc2b9",
   "metadata": {},
   "outputs": [],
   "source": [
    "#Validation croisee des modeles de regression lineaire\n",
    "model_list_ADF<- list()\n",
    "resultList_ADF_train <- data.frame()\n",
    "predictions_list <- list()  # Pour stocker les prédictions de chaque fold\n",
    "\n",
    "for (m in 1:length(MLM_formula)){\n",
    "  set.seed(102)\n",
    "  trControl = trainControl(method = 'repeatedcv', number = 5, repeats = 3, verboseIter = FALSE, savePredictions=TRUE) #Preciser le schema de reechantillonnage\n",
    "  Fit_model_ADF <- train(formula(MLM_formula[m]), data=sentinel_site_ADF, method =\"lm\", trControl = trControl) #Ajustement de modeles\n",
    "  model_list_ADF = as.list.data.frame(Fit_model_ADF)\n",
    "  model_list_ADF <- c(model_list_ADF, list(Fit_model_ADF))\n",
    "  # Calcul des métriques de validation\n",
    "  result_ADF_train <- summary(model_list_ADF)\n",
    "  resultList_ADF_train[m,1] <- (MLM_formula)[m]\n",
    "  resultList_ADF_train[m,2] <- model_list_ADF$results[1,2]\n",
    "  resultList_ADF_train[m,3] <- model_list_ADF$results[1,3]\n",
    "  resultList_ADF_train[m,4] <- model_list_ADF$results[1,4]\n",
    "  actual_values <- sentinel_site_ADF$ADF \n",
    "  rmse <- resultList_ADF_train[m,4]\n",
    "  mean_actual_values <- mean(actual_values)\n",
    "  resultList_ADF_train[m,5] <- (rmse/mean_actual_values)*100\n",
    "}"
   ]
  },
  {
   "cell_type": "code",
   "execution_count": 10,
   "id": "19b695e8-682e-4108-83d9-4046662f11e4",
   "metadata": {},
   "outputs": [],
   "source": [
    "\n",
    "names(resultList_ADF_train) <- c(\"MLM_formula\", \"RMSE\", \"R2_Val\", \"MAE\", \"RRMSE\")\n",
    "\n",
    "resultList_ADF_final<-cbind(resultList_ADF, resultList_ADF_train[3],resultList_ADF_train[2],resultList_ADF_train[4],resultList_ADF_train[5])  \n",
    "resultList_ADF_final<-resultList_ADF_final[order(resultList_ADF_final$RMSE), c(1:6)] # l'objectif ici c'est que R nous trie notre colonne de RMSE du plus petit au plus grand"
   ]
  },
  {
   "cell_type": "code",
   "execution_count": 11,
   "id": "f6a83e65-42ce-43cd-affe-d2bc2d22cda8",
   "metadata": {},
   "outputs": [
    {
     "name": "stdout",
     "output_type": "stream",
     "text": [
      "                                MLM     R2cal    R2_Val     RMSE      MAE\n",
      "15              ADF~GRCI+NDSVI+RVI2 0.6205591 0.6547017 2.404050 1.962277\n",
      "2                    ADF~GRCI+NDSVI 0.6205591 0.6214024 2.480111 2.150863\n",
      "24         ADF~GRCI+NDSVI+RVI3+RVI2 0.6205591 0.6192497 2.614243 2.130063\n",
      "11           ADF~GRCI+VIgreen+NDSVI 0.6205591 0.6208149 2.619303 2.198649\n",
      "22      ADF~GRCI+VIgreen+NDSVI+RVI2 0.6205591 0.6292421 2.639905 2.175226\n",
      "14              ADF~GRCI+NDSVI+RVI3 0.6205591 0.5915784 2.648054 2.306500\n",
      "21      ADF~GRCI+VIgreen+NDSVI+RVI3 0.6205591 0.5809598 2.800534 2.311133\n",
      "26 ADF~GRCI+VIgreen+NDSVI+RVI3+RVI2 0.6205591 0.5986654 2.893100 2.380757\n",
      "8                    ADF~NDSVI+RVI3 0.6205591 0.4320580 2.916556 2.557472\n",
      "4                     ADF~GRCI+RVI2 0.6205591 0.4368185 2.969522 2.544743\n",
      "3                     ADF~GRCI+RVI3 0.6205591 0.4474447 2.993842 2.644105\n",
      "17           ADF~VIgreen+NDSVI+RVI3 0.6205591 0.4348579 3.018632 2.532889\n",
      "20              ADF~NDSVI+RVI3+RVI2 0.6205591 0.3954341 3.047604 2.694247\n",
      "16               ADF~GRCI+RVI3+RVI2 0.6205591 0.4169464 3.083107 2.674662\n",
      "1                  ADF~GRCI+VIgreen 0.6205591 0.4308564 3.088538 2.683849\n",
      "25      ADF~VIgreen+NDSVI+RVI3+RVI2 0.6205591 0.4188613 3.137520 2.651005\n",
      "9                    ADF~NDSVI+RVI2 0.6205591 0.3588192 3.150065 2.780382\n",
      "5                 ADF~VIgreen+NDSVI 0.6205591 0.3442239 3.156157 2.820405\n",
      "12            ADF~GRCI+VIgreen+RVI3 0.6205591 0.3925101 3.213968 2.814855\n",
      "10                    ADF~RVI3+RVI2 0.6205591 0.3351896 3.227883 2.847629\n",
      "13            ADF~GRCI+VIgreen+RVI2 0.6205591 0.3987323 3.234065 2.795173\n",
      "19            ADF~VIgreen+RVI3+RVI2 0.6205591 0.3199055 3.290204 2.899047\n",
      "18           ADF~VIgreen+NDSVI+RVI2 0.6205591 0.3290191 3.301817 2.882795\n",
      "6                  ADF~VIgreen+RVI3 0.6205591 0.3071790 3.335164 2.901208\n",
      "7                  ADF~VIgreen+RVI2 0.6205591 0.2917162 3.350163 2.921533\n",
      "23       ADF~GRCI+VIgreen+RVI3+RVI2 0.6205591 0.3451443 3.400807 2.970914\n",
      "      RRMSE\n",
      "15 3.600868\n",
      "2  3.946933\n",
      "24 3.908764\n",
      "11 4.034622\n",
      "22 3.991641\n",
      "14 4.232533\n",
      "21 4.241035\n",
      "26 4.368799\n",
      "8  4.693078\n",
      "4  4.669720\n",
      "3  4.852054\n",
      "17 4.647968\n",
      "20 4.944066\n",
      "16 4.908128\n",
      "1  4.924987\n",
      "25 4.864716\n",
      "9  5.102129\n",
      "5  5.175573\n",
      "12 5.165389\n",
      "10 5.225530\n",
      "13 5.129271\n",
      "19 5.319885\n",
      "18 5.290062\n",
      "6  5.323851\n",
      "7  5.361147\n",
      "23 5.451765\n"
     ]
    }
   ],
   "source": [
    "print(resultList_ADF_final)"
   ]
  },
  {
   "cell_type": "code",
   "execution_count": null,
   "id": "a5899a5d-66c5-49cd-afde-534fa5cc3976",
   "metadata": {},
   "outputs": [],
   "source": [
    "# Exportation des resultats sous format csv\n",
    "write.csv(resultList_ADF_final, \"/home/eoafrica/FATIMA_Project/M2021/BD_BH_VIF/Result_MLM_inter_effect/result_MLM_inter_effect_ADF.csv\")"
   ]
  },
  {
   "cell_type": "code",
   "execution_count": null,
   "id": "b48dd9e0-4d68-4d4b-aea9-d3698cf27961",
   "metadata": {},
   "outputs": [],
   "source": [
    "Fit_model_ADF_15 <- train(formula(MLM_formula[15]), data=sentinel_site_ADF, method =\"lm\", trControl = trControl)"
   ]
  },
  {
   "cell_type": "code",
   "execution_count": null,
   "id": "6e16283a-b592-4480-b252-e06094938fe3",
   "metadata": {},
   "outputs": [],
   "source": [
    "df<-Fit_model_ADF_15$pred\n",
    "names(df)"
   ]
  },
  {
   "cell_type": "code",
   "execution_count": null,
   "id": "7f6aef12-5f95-420e-9196-2ff1f6198acd",
   "metadata": {},
   "outputs": [],
   "source": [
    "# Calcul de la droite de régression linéaire\n",
    "lm_model <- lm(df$pred~df$obs)\n",
    "summary(lm_model)"
   ]
  },
  {
   "cell_type": "code",
   "execution_count": null,
   "id": "e29d0c32-c10d-4483-9dbd-2cb94af2453a",
   "metadata": {},
   "outputs": [],
   "source": [
    "folds_adf <- df[1:2]\n",
    "colnames(folds_adf) <- c(\"ADF_estime\", \"ADF_observe\")\n",
    "names(folds_adf)"
   ]
  },
  {
   "cell_type": "markdown",
   "id": "9f3e7c21-f9e2-4091-aab2-df7c999fc090",
   "metadata": {},
   "source": [
    "write.csv(results, \"/home/eoafrica/FATIMA_Project/M2021/BD_BH_VIF/Result_MLM_HQ_pred/result_MLM_pred_ADF.csv\")"
   ]
  },
  {
   "cell_type": "code",
   "execution_count": null,
   "id": "235a21ed-3854-4f9c-87b8-e89df97b92cf",
   "metadata": {
    "tags": []
   },
   "outputs": [],
   "source": [
    "library(ggplot2)"
   ]
  },
  {
   "cell_type": "code",
   "execution_count": null,
   "id": "5b1f6877-8de4-48f1-a44d-887eb8883f00",
   "metadata": {
    "tags": []
   },
   "outputs": [],
   "source": [
    "# Créer le scatter plot avec ggplot2\n",
    "plt2 <- ggplot(folds_adf, aes(x = ADF_estime, y = ADF_observe)) +\n",
    "    geom_point(size = 3) +\n",
    "    labs(x = expression(bold(\"ADF herbacés observées (%MS)\")), \n",
    "         y = expression(bold(\"ADF herbacés estimées (%MS)\"))) +\n",
    "    theme(axis.text=element_text(size=12, color=\"black\", face='bold'),\n",
    "    axis.title=element_text(size=15, color=\"black\", face=\"bold\"),\n",
    "    plot.title = element_text(size = 20, face = \"bold\")) +\n",
    "    scale_shape_manual(values = c(\"ADF\" = 16), name = \"Variables\") +\n",
    "    geom_smooth(aes(color = \"ADF\"), method = \"lm\", se = TRUE) +\n",
    "    scale_color_manual(values = c(\"orange\"), \n",
    "                       labels = c(\"ADF\"), \n",
    "                       name = \"Variables\") +\n",
    "    geom_abline(slope = 1, intercept = 0, linetype = \"dashed\", color = \"black\") +\n",
    "    guides(shape = guide_legend(title = \"Variables\")) +\n",
    "    geom_text(aes(x = 19, y = 30, label = \"p-value < 0,05\"), color = \"black\", size = 5.5) +\n",
    "    geom_text(aes(x = 19, y = 30.5, label = \"R² = 0.5547\"), color = \"black\", size = 5.5)\n",
    "plt2"
   ]
  },
  {
   "cell_type": "code",
   "execution_count": null,
   "id": "59dadafb-ced2-40c2-ab8c-ee692708dd25",
   "metadata": {},
   "outputs": [],
   "source": [
    "ggsave(plt2, filename = \"/home/eoafrica/FATIMA_Project/M2021/BD_BH_VIF/Result_MLM_HQ_pred/graph_reg_obs_folds_ADF_HQ.png\", device ='png')"
   ]
  },
  {
   "cell_type": "code",
   "execution_count": null,
   "id": "c95d6926-6226-45c5-b2b2-45cab8e1eb87",
   "metadata": {},
   "outputs": [],
   "source": []
  }
 ],
 "metadata": {
  "kernelspec": {
   "display_name": "R",
   "language": "R",
   "name": "ir"
  },
  "language_info": {
   "codemirror_mode": "r",
   "file_extension": ".r",
   "mimetype": "text/x-r-source",
   "name": "R",
   "pygments_lexer": "r",
   "version": "3.6.3"
  }
 },
 "nbformat": 4,
 "nbformat_minor": 5
}
