{
 "cells": [
  {
   "cell_type": "markdown",
   "id": "a36d3b63-94bc-4aff-bcca-0e5c56c6c6f3",
   "metadata": {},
   "source": [
    "# Extraction des indices dans les 11 Sites de Contrôle au Sol (SCS) du Centre de Suivi Ecoligique (CSE)"
   ]
  },
  {
   "cell_type": "code",
   "execution_count": 1,
   "id": "4fed93bf-351f-41eb-8fd2-bb26a87cce95",
   "metadata": {},
   "outputs": [
    {
     "data": {
      "text/html": [
       "<p>To authorize access needed by Earth Engine, open the following\n",
       "        URL in a web browser and follow the instructions:</p>\n",
       "        <p><a href=https://code.earthengine.google.com/client-auth?scopes=https%3A//www.googleapis.com/auth/earthengine%20https%3A//www.googleapis.com/auth/devstorage.full_control&request_id=GdGFqiDL8un1qXcZojQXspqQMpySU3uimZ9-W-r548A&tc=oY_LwoI7qMoHJ7Nl6cf1eOLoYLDFEGdV8N9hBAKKJ08&cc=hFDwu_jFVij_V60fIKnwvRYqGnIfG-sEoWj2d9oHoGA>https://code.earthengine.google.com/client-auth?scopes=https%3A//www.googleapis.com/auth/earthengine%20https%3A//www.googleapis.com/auth/devstorage.full_control&request_id=GdGFqiDL8un1qXcZojQXspqQMpySU3uimZ9-W-r548A&tc=oY_LwoI7qMoHJ7Nl6cf1eOLoYLDFEGdV8N9hBAKKJ08&cc=hFDwu_jFVij_V60fIKnwvRYqGnIfG-sEoWj2d9oHoGA</a></p>\n",
       "        <p>The authorization workflow will generate a code, which you should paste in the box below.</p>\n",
       "        "
      ],
      "text/plain": [
       "<IPython.core.display.HTML object>"
      ]
     },
     "metadata": {},
     "output_type": "display_data"
    },
    {
     "name": "stdin",
     "output_type": "stream",
     "text": [
      "Enter verification code:  4/1Adeu5BUREOzpMWPrua7zSXS8ZUS8OBrOj-GBsIO7-NQLYnEjp5tUjrm-yu0\n"
     ]
    },
    {
     "name": "stdout",
     "output_type": "stream",
     "text": [
      "\n",
      "Successfully saved authorization token.\n"
     ]
    }
   ],
   "source": [
    "# Import des librarie de geemap\n",
    "import ee\n",
    "import geemap"
   ]
  },
  {
   "cell_type": "code",
   "execution_count": null,
   "id": "d93e091f-e4b5-4e49-a531-f4da7508917e",
   "metadata": {},
   "outputs": [],
   "source": [
    "# Authentification du compte google earth engine (GEE)\n",
    "ee.Authenticate()\n",
    "ee.Initialize()"
   ]
  },
  {
   "cell_type": "code",
   "execution_count": 6,
   "id": "bbc5dbda-691b-4473-8437-753182882e3b",
   "metadata": {},
   "outputs": [
    {
     "data": {
      "application/vnd.jupyter.widget-view+json": {
       "model_id": "c3dae6ef1b7d4087aa90fa46af6eb48d",
       "version_major": 2,
       "version_minor": 0
      },
      "text/plain": [
       "Map(center=[14.888344806144062, -14.207072727106443], controls=(WidgetControl(options=['position', 'transparen…"
      ]
     },
     "metadata": {},
     "output_type": "display_data"
    }
   ],
   "source": [
    "# Ajouter du ROI à partir de GEE\n",
    "zsp = ee.FeatureCollection(\"projects/ee-sambagorguimane/assets/zsp\")\n",
    "\n",
    "# Ajouter une collection d'image GEE\n",
    "sentinel_2 = ee.ImageCollection(\"COPERNICUS/S2_SR_HARMONIZED\").filter(\n",
    "    ee.Filter.date('2021-03-25','2021-04-04')\n",
    ").filter(ee.Filter.lt('CLOUDY_PIXEL_PERCENTAGE',7)).filterBounds(zsp).median().clip(zsp)\n",
    "\n",
    "# Paramètres de visualisation \n",
    "vis = {\n",
    "    \"min\": 0.0,\n",
    "    \"max\": 7000,\n",
    "    \"bands\": [\"B4\", \"B3\", \"B2\"],\n",
    "}\n",
    "\n",
    "# Visualisation \n",
    "Map = geemap.Map()\n",
    "Map.add_basemap('SATELLITE')\n",
    "Map.centerObject(zsp,7)\n",
    "Map.addLayer(zsp)\n",
    "Map.addLayer(sentinel_2, vis, 'Sentinel2')\n",
    "Map"
   ]
  },
  {
   "cell_type": "markdown",
   "id": "a19bfce8-31ba-42a2-b644-31856cb3340a",
   "metadata": {},
   "source": [
    "# Calcul des indices de végétation"
   ]
  },
  {
   "cell_type": "markdown",
   "id": "f724e086-4364-48b7-882d-d5e1ca99ce37",
   "metadata": {},
   "source": [
    "## Visualization parameters"
   ]
  },
  {
   "cell_type": "code",
   "execution_count": 10,
   "id": "e11677c6-5de1-4d7e-b278-053e03aba6f1",
   "metadata": {},
   "outputs": [],
   "source": [
    "vis_params = {max: 1.0,\n",
    "    min: -0.5,\n",
    "    'palette': ['#0000ff', '#008000', '#ff0000',\n",
    "                '#ffff00', '#5effee','#f7ff9b',\n",
    "               '#e9bdff','#7dacff','#ffc1a7']}"
   ]
  },
  {
   "cell_type": "markdown",
   "id": "0634d354-9da3-4f2c-91b4-0422fc2d309d",
   "metadata": {
    "tags": []
   },
   "source": [
    "### 1. Normalized Difference Vegetation Index (NDI5)\n",
    "#### ndi_5 = (nir-swir1)/(nir+swir1)"
   ]
  },
  {
   "cell_type": "code",
   "execution_count": 11,
   "id": "964555ba-4153-4ad9-b998-2e862999cf13",
   "metadata": {
    "tags": []
   },
   "outputs": [
    {
     "data": {
      "application/vnd.jupyter.widget-view+json": {
       "model_id": "c8331156888e40a694a8103b6ca165bf",
       "version_major": 2,
       "version_minor": 0
      },
      "text/plain": [
       "Map(center=[14.888344806144062, -14.207072727106443], controls=(WidgetControl(options=['position', 'transparen…"
      ]
     },
     "metadata": {},
     "output_type": "display_data"
    }
   ],
   "source": [
    "def getndi5(image):\n",
    "    # Calculer le NDI5 à l'aide de cette expression.\n",
    "    ndi_5 = image.expression ('(nir-swir1)/(nir+swir1)', {\n",
    "        'nir': image.select ('B8'),  \n",
    "        'swir1': image.select ('B11')\n",
    "        }).rename(\"NDI5\")\n",
    "    image = image.addBands(ndi_5)\n",
    "\n",
    "    return(image)\n",
    "\n",
    "# Visualisation NDI5\n",
    "ndi5 = getndi5(sentinel_2)\n",
    "ndi_5= ndi5.select(['NDI5'])\n",
    "map_ndi5 = geemap.Map()\n",
    "map_ndi5.addLayer(ndi_5, vis_params, 'NDI5')\n",
    "map_ndi5.centerObject(zsp,7)\n",
    "map_ndi5"
   ]
  },
  {
   "cell_type": "markdown",
   "id": "5c2e540e-c643-49f5-9050-d501da91468d",
   "metadata": {},
   "source": [
    "### 2. Dead Fuel Index (DFI)\n",
    "#### dfi = 100*(1-swir2/swir1)*(red/nir)"
   ]
  },
  {
   "cell_type": "code",
   "execution_count": 12,
   "id": "216f4c7d-f7ba-4c49-b5b5-8a86bafcb39d",
   "metadata": {},
   "outputs": [
    {
     "data": {
      "application/vnd.jupyter.widget-view+json": {
       "model_id": "e50d4429132a4b5e8c6ed1003653862f",
       "version_major": 2,
       "version_minor": 0
      },
      "text/plain": [
       "Map(center=[14.888344806144062, -14.207072727106443], controls=(WidgetControl(options=['position', 'transparen…"
      ]
     },
     "metadata": {},
     "output_type": "display_data"
    }
   ],
   "source": [
    "def getdfi(image):\n",
    "    # Calculer le DFI à l'aide de cette  expression.\n",
    "    dfi = image.expression ('100*(1-(swir2/swir1))*(red/nir)', {\n",
    "        'nir': image.select ('B8'),  \n",
    "        'red': image.select ('B4'),\n",
    "        'swir1': image.select('B11'),\n",
    "        'swir2': image.select('B12')\n",
    "        }).rename(\"DFI\")\n",
    "    image = image.addBands(dfi)\n",
    "\n",
    "    return(image)\n",
    "\n",
    "# Visualisation DFI\n",
    "dfi = getdfi(sentinel_2)\n",
    "dfi = dfi.select(['DFI'])\n",
    "map_dfi = geemap.Map()\n",
    "map_dfi.addLayer(dfi, vis_params, 'DFI')\n",
    "map_dfi.centerObject(zsp,7)\n",
    "map_dfi"
   ]
  },
  {
   "cell_type": "markdown",
   "id": "59e60504-db73-48e6-bb24-c67cf4fb1112",
   "metadata": {},
   "source": [
    "### 3. Transformed CARI (TCARI)\n",
    "#### tcari = 3*[(nir-red)-0.2*(nir-green)*(nir/red)]"
   ]
  },
  {
   "cell_type": "code",
   "execution_count": 13,
   "id": "202b1d32-5bc7-487a-9473-ee578aed14d5",
   "metadata": {
    "tags": []
   },
   "outputs": [
    {
     "data": {
      "application/vnd.jupyter.widget-view+json": {
       "model_id": "fddecc8e51e0472b94555fc84eaacf00",
       "version_major": 2,
       "version_minor": 0
      },
      "text/plain": [
       "Map(center=[14.888344806144062, -14.207072727106443], controls=(WidgetControl(options=['position', 'transparen…"
      ]
     },
     "metadata": {},
     "output_type": "display_data"
    }
   ],
   "source": [
    "def gettcari(image):\n",
    "    # Calculer le TCARI à l'aide de cette expression.\n",
    "    tcari = image.expression ('(3*((nir-red)-0.2*(nir-green)*(nir/red))/10000)', {\n",
    "        'nir': image.select ('B8'),  \n",
    "        'red': image.select ('B4'),\n",
    "        'green': image.select('B3')\n",
    "        }).rename(\"TCARI\")\n",
    "    image = image.addBands(tcari)\n",
    "    return(image)\n",
    "\n",
    "# Visualisation TCARI\n",
    "tcari = gettcari(sentinel_2)\n",
    "tcari = tcari.select(['TCARI'])\n",
    "map_tcari = geemap.Map()\n",
    "map_tcari.addLayer(tcari, vis_params, 'TCARI')\n",
    "map_tcari.centerObject(zsp,7)\n",
    "map_tcari"
   ]
  },
  {
   "cell_type": "markdown",
   "id": "868313f9-dc7d-4fff-a85c-10803048f724",
   "metadata": {},
   "source": [
    "### 4. Green Residue Cover Index (GRCI)\n",
    "#### grci = (green-blue)/(green+blue)"
   ]
  },
  {
   "cell_type": "code",
   "execution_count": 14,
   "id": "81a861fc-7713-4962-a848-adc8a8a65a28",
   "metadata": {},
   "outputs": [
    {
     "data": {
      "application/vnd.jupyter.widget-view+json": {
       "model_id": "05e10d3cff024f468b7995e9df32d1bf",
       "version_major": 2,
       "version_minor": 0
      },
      "text/plain": [
       "Map(center=[14.888344806144062, -14.207072727106443], controls=(WidgetControl(options=['position', 'transparen…"
      ]
     },
     "metadata": {},
     "output_type": "display_data"
    }
   ],
   "source": [
    "def getgrci(image):\n",
    "    # Calculer le GRCI à l'aide de cette expression.\n",
    "    grci = image.expression ('(green-blue)/(green+blue)', {\n",
    "        'green': image.select ('B3'),  \n",
    "        'blue': image.select ('B2')\n",
    "        }).rename(\"GRCI\")\n",
    "    image = image.addBands(grci)\n",
    "\n",
    "    return(image)\n",
    "\n",
    "# Visualisation GRCI\n",
    "grci = getgrci(sentinel_2)\n",
    "grci = grci.select(['GRCI'])\n",
    "map_grci = geemap.Map()\n",
    "map_grci.addLayer(grci, vis_params, 'GRCI')\n",
    "map_grci.centerObject(zsp,7)\n",
    "map_grci"
   ]
  },
  {
   "cell_type": "markdown",
   "id": "d7e67daf-e6b1-470d-a096-8617a2a48ea1",
   "metadata": {},
   "source": [
    "### 5. Simple Ratio Index (SRI)\n",
    "#### sri = nir/red"
   ]
  },
  {
   "cell_type": "code",
   "execution_count": 15,
   "id": "edd9e5e4-5a96-4ba5-b906-3ba5141c96ac",
   "metadata": {},
   "outputs": [
    {
     "data": {
      "application/vnd.jupyter.widget-view+json": {
       "model_id": "990bb3f3adda47b4a392aeef5e9dca64",
       "version_major": 2,
       "version_minor": 0
      },
      "text/plain": [
       "Map(center=[14.888344806144062, -14.207072727106443], controls=(WidgetControl(options=['position', 'transparen…"
      ]
     },
     "metadata": {},
     "output_type": "display_data"
    }
   ],
   "source": [
    "def getsri(image):\n",
    "    # Calculer le SRI à l'aide de cette expression.\n",
    "    sri = image.expression ('nir/red', {\n",
    "        'nir': image.select ('B8'),  \n",
    "        'red': image.select ('B4')\n",
    "        }).rename(\"SRI\")\n",
    "    image = image.addBands(sri)\n",
    "\n",
    "    return(image)\n",
    "\n",
    "# Visualisation SRI\n",
    "sri = getsri(sentinel_2)\n",
    "sri = sri.select(['SRI'])\n",
    "map_sri = geemap.Map()\n",
    "map_sri.addLayer(sri, vis_params, 'SRI')\n",
    "map_sri.centerObject(zsp,7)\n",
    "map_sri"
   ]
  },
  {
   "cell_type": "markdown",
   "id": "54408c13-ea4b-41df-94ef-4ea5576e04bf",
   "metadata": {},
   "source": [
    "### 6. Ratio Vegetation Index 2 (RVI2)\n",
    "#### rvi2 = green/red"
   ]
  },
  {
   "cell_type": "code",
   "execution_count": 16,
   "id": "54df6ae1-d070-4575-bd54-871ec477db32",
   "metadata": {},
   "outputs": [
    {
     "data": {
      "application/vnd.jupyter.widget-view+json": {
       "model_id": "a90a0b5e167541cf88645982d9f904d8",
       "version_major": 2,
       "version_minor": 0
      },
      "text/plain": [
       "Map(center=[14.888344806144062, -14.207072727106443], controls=(WidgetControl(options=['position', 'transparen…"
      ]
     },
     "metadata": {},
     "output_type": "display_data"
    }
   ],
   "source": [
    "def getrvi2(image):\n",
    "    # Calculer le RVI à l'aide de cette  expression.\n",
    "    rvi2 = image.expression ('green/red', {\n",
    "        'green': image.select ('B3'),  \n",
    "        'red': image.select ('B4')\n",
    "        }).rename(\"RVI2\")\n",
    "    image = image.addBands(rvi2)\n",
    "\n",
    "    return(image)\n",
    "\n",
    "# Visualisation RVI2\n",
    "rvi2 = getrvi2(sentinel_2)\n",
    "rvi2 = rvi2.select(['RVI2'])\n",
    "map_rvi2 = geemap.Map()\n",
    "map_rvi2.addLayer(rvi2, vis_params, 'RVI2')\n",
    "map_rvi2.centerObject(zsp,7)\n",
    "map_rvi2"
   ]
  },
  {
   "cell_type": "markdown",
   "id": "6e6ceb63-2451-4f6e-9c49-ae466fb1bc83",
   "metadata": {},
   "source": [
    "### 7. Crop Residue Cover (CRC)\n",
    "#### crc = (swir1-green)/(swir1+green)"
   ]
  },
  {
   "cell_type": "code",
   "execution_count": 17,
   "id": "458cf0b2-c12d-481a-b6f6-f2dbfc85e8d9",
   "metadata": {},
   "outputs": [
    {
     "data": {
      "application/vnd.jupyter.widget-view+json": {
       "model_id": "e648ef5022244bad8394f2d0bd58dea8",
       "version_major": 2,
       "version_minor": 0
      },
      "text/plain": [
       "Map(center=[14.888344806144062, -14.207072727106443], controls=(WidgetControl(options=['position', 'transparen…"
      ]
     },
     "metadata": {},
     "output_type": "display_data"
    }
   ],
   "source": [
    "def getcrc(image):\n",
    "    # Calculer le CRC à l'aide de cette expression.\n",
    "    crc = image.expression ('(swir1-green)/(swir1+green)', {\n",
    "        'swir1': image.select('B11'),\n",
    "        'green': image.select('B3')\n",
    "        }).rename(\"CRC\")\n",
    "    image = image.addBands(crc)\n",
    "\n",
    "    return(image)\n",
    "\n",
    "# Visualisation CRC\n",
    "crc = getcrc(sentinel_2)\n",
    "crc = crc.select(['CRC'])\n",
    "map_crc = geemap.Map()\n",
    "map_crc.addLayer(crc, vis_params, 'CRC')\n",
    "map_crc.centerObject(zsp,7)\n",
    "map_crc"
   ]
  },
  {
   "cell_type": "markdown",
   "id": "9c427aee-9d12-4e28-a2c2-1eb1f12ba7ac",
   "metadata": {},
   "source": [
    "### 8. Ratio Vegetation Index 3 (RVI3)\n",
    "#### rvi3 = green/blue"
   ]
  },
  {
   "cell_type": "code",
   "execution_count": 18,
   "id": "7f6399d2-2161-40d8-b65c-6cd8d0a2469e",
   "metadata": {},
   "outputs": [
    {
     "data": {
      "application/vnd.jupyter.widget-view+json": {
       "model_id": "3af20b8386854a70a57f119a2f24e25d",
       "version_major": 2,
       "version_minor": 0
      },
      "text/plain": [
       "Map(center=[14.888344806144062, -14.207072727106443], controls=(WidgetControl(options=['position', 'transparen…"
      ]
     },
     "metadata": {},
     "output_type": "display_data"
    }
   ],
   "source": [
    "def getrvi3(image):\n",
    "    # Calculer le RVI3 à l'aide de cette expression.\n",
    "    rvi3 = image.expression ('green/blue', {\n",
    "        'green': image.select ('B3'),  \n",
    "        'blue': image.select ('B2')\n",
    "        }).rename(\"RVI3\")\n",
    "    image = image.addBands(rvi3)\n",
    "\n",
    "    return(image)\n",
    "\n",
    "# Visualisation RVI3\n",
    "rvi3 = getrvi3(sentinel_2)\n",
    "rvi3 = rvi3.select(['RVI3'])\n",
    "map_rvi3 = geemap.Map()\n",
    "map_rvi3.addLayer(rvi3, vis_params, 'RVI3')\n",
    "map_rvi3.centerObject(zsp,7)\n",
    "map_rvi3"
   ]
  },
  {
   "cell_type": "markdown",
   "id": "39503f8f-6005-4b83-b065-fb249d309e16",
   "metadata": {},
   "source": [
    "### 9. Normalized Difference Vegetation Index (NDVI)\n",
    "#### NDVI = (NIR-RED)/(NIR+RED)"
   ]
  },
  {
   "cell_type": "code",
   "execution_count": 19,
   "id": "d54ca6de-042c-44d8-9ba0-40d3fb06fba1",
   "metadata": {},
   "outputs": [
    {
     "data": {
      "application/vnd.jupyter.widget-view+json": {
       "model_id": "569207b4e6d64f458176976e734c82bd",
       "version_major": 2,
       "version_minor": 0
      },
      "text/plain": [
       "Map(center=[14.888344806144062, -14.207072727106443], controls=(WidgetControl(options=['position', 'transparen…"
      ]
     },
     "metadata": {},
     "output_type": "display_data"
    }
   ],
   "source": [
    "def getndvi(image):\n",
    "    # Calculer le NDVI à l'aide de cette expression.\n",
    "    ndvi = image.expression ('(nir-red)/(nir+red)', {\n",
    "        'nir': image.select ('B8'),  \n",
    "        'red': image.select ('B4')\n",
    "        }).rename(\"NDVI\")\n",
    "    image = image.addBands(ndvi)\n",
    "\n",
    "    return(image)\n",
    "\n",
    "# Visualisation NDVI\n",
    "ndvi = getndvi(sentinel_2)\n",
    "ndvi = ndvi.select(['NDVI'])\n",
    "map_ndvi = geemap.Map()\n",
    "map_ndvi.addLayer(ndvi, vis_params, 'NDVI')\n",
    "map_ndvi.centerObject(zsp,7)\n",
    "map_ndvi"
   ]
  },
  {
   "cell_type": "markdown",
   "id": "beb479a8-ac55-47a1-b181-ac5a6b813237",
   "metadata": {},
   "source": [
    "### 10. Normalized Difference Index 7 (NDI7)\n",
    "#### NDV7 = (NIR-SWIR2)/(NIR+SWIR2)"
   ]
  },
  {
   "cell_type": "code",
   "execution_count": 20,
   "id": "2ebab4b3-6b58-400c-96dd-2f57e1b32f1f",
   "metadata": {},
   "outputs": [
    {
     "data": {
      "application/vnd.jupyter.widget-view+json": {
       "model_id": "12c4c5d867ac4489a5cf450273960701",
       "version_major": 2,
       "version_minor": 0
      },
      "text/plain": [
       "Map(center=[14.888344806144062, -14.207072727106443], controls=(WidgetControl(options=['position', 'transparen…"
      ]
     },
     "metadata": {},
     "output_type": "display_data"
    }
   ],
   "source": [
    "def getndi7(image):\n",
    "    # Calculer le NDI7 à l'aide de cette expression.\n",
    "    ndi7 = image.expression ('(nir-swir2)/(nir+swir2)', {\n",
    "        'nir': image.select ('B8'),  \n",
    "        'swir2': image.select ('B12')\n",
    "        }).rename(\"NDI7\")\n",
    "    image = image.addBands(ndi7)\n",
    "\n",
    "    return(image)\n",
    "\n",
    "# Visualisation NDI7\n",
    "ndi7 = getndi7(sentinel_2)\n",
    "ndi7 = ndi7.select(['NDI7'])\n",
    "map_ndi7 = geemap.Map()\n",
    "map_ndi7.addLayer(ndi7, vis_params, 'NDI7')\n",
    "map_ndi7.centerObject(zsp,7)\n",
    "map_ndi7"
   ]
  },
  {
   "cell_type": "markdown",
   "id": "bd3fa5f2-2f81-46b2-862c-c04820d71ab4",
   "metadata": {},
   "source": [
    "### 11. Normalized Difference Senescent Vegetation Index (NDSVI)\n",
    "#### NDSVI = (SWIR1-RED)/(SWIR1+RED)"
   ]
  },
  {
   "cell_type": "code",
   "execution_count": 21,
   "id": "44b92eac-de89-4ae9-b437-7c4aef12260c",
   "metadata": {},
   "outputs": [
    {
     "data": {
      "application/vnd.jupyter.widget-view+json": {
       "model_id": "5413496ef7a04208b1c1130b0c402987",
       "version_major": 2,
       "version_minor": 0
      },
      "text/plain": [
       "Map(center=[14.888344806144062, -14.207072727106443], controls=(WidgetControl(options=['position', 'transparen…"
      ]
     },
     "metadata": {},
     "output_type": "display_data"
    }
   ],
   "source": [
    "def getndsvi(image):\n",
    "    # Calculer le NDSVI à l'aide de cette expression.\n",
    "    ndsvi = image.expression ('(SWIR1-RED)/(SWIR1+RED)', {\n",
    "        'RED': image.select ('B4'),  \n",
    "        'SWIR1': image.select ('B11')\n",
    "        }).rename(\"NDSVI\")\n",
    "    image = image.addBands(ndsvi)\n",
    "\n",
    "    return(image)\n",
    "\n",
    "# Visualisation NDSVI\n",
    "ndsvi = getndsvi(sentinel_2)\n",
    "ndsvi = ndsvi.select(['NDSVI'])\n",
    "map_ndsvi = geemap.Map()\n",
    "map_ndsvi.addLayer(ndsvi, vis_params, 'NDSVI')\n",
    "map_ndsvi.centerObject(zsp,7)\n",
    "map_ndsvi"
   ]
  },
  {
   "cell_type": "markdown",
   "id": "ddb7caf4-1170-4067-97f8-10633f19004b",
   "metadata": {},
   "source": [
    "### 12. Normalized Difference Tillage Index\n",
    "#### NDTI=(B11-B12)/(B11+B12)"
   ]
  },
  {
   "cell_type": "code",
   "execution_count": 22,
   "id": "97f8d3ff-35f5-47e9-bf5c-cc52d2b8a1bd",
   "metadata": {},
   "outputs": [
    {
     "data": {
      "application/vnd.jupyter.widget-view+json": {
       "model_id": "025a5cf5328f4e538298b0fc473cf72b",
       "version_major": 2,
       "version_minor": 0
      },
      "text/plain": [
       "Map(center=[14.888344806144062, -14.207072727106443], controls=(WidgetControl(options=['position', 'transparen…"
      ]
     },
     "metadata": {},
     "output_type": "display_data"
    }
   ],
   "source": [
    "def getndti(image):\n",
    "    # Calculer le NDTI à l'aide de cette expression.\n",
    "    ndti = image.expression ('(SWIR1-SWIR2)/(SWIR1+SWIR2)', {\n",
    "        'SWIR2': image.select ('B12'),  \n",
    "        'SWIR1': image.select ('B11')\n",
    "        }).rename(\"NDTI\")\n",
    "    image = image.addBands(ndti)\n",
    "\n",
    "    return(image)\n",
    "\n",
    "# Visualisation NDTI\n",
    "ndti = getndti(sentinel_2)\n",
    "ndti = ndti.select(['NDTI'])\n",
    "map_ndti = geemap.Map()\n",
    "map_ndti.addLayer(ndti, vis_params, 'NDTI')\n",
    "map_ndti.centerObject(zsp,7)\n",
    "map_ndti"
   ]
  },
  {
   "cell_type": "markdown",
   "id": "8a69a8d1-86ee-42ae-b01d-094cc9312a56",
   "metadata": {},
   "source": [
    "### 13. Blue normalized difference vegetation index\n",
    "#### BNDVI=((B8-B2))/((B8+B2))"
   ]
  },
  {
   "cell_type": "code",
   "execution_count": 23,
   "id": "3386c106-8894-472d-b6b3-4cc949fc09ab",
   "metadata": {},
   "outputs": [
    {
     "data": {
      "application/vnd.jupyter.widget-view+json": {
       "model_id": "4edc383685b14979b44016359185f4c5",
       "version_major": 2,
       "version_minor": 0
      },
      "text/plain": [
       "Map(center=[14.888344806144062, -14.207072727106443], controls=(WidgetControl(options=['position', 'transparen…"
      ]
     },
     "metadata": {},
     "output_type": "display_data"
    }
   ],
   "source": [
    "def getbndvi(image):\n",
    "    # Calculer le BNDVI à l'aide de cette expression.\n",
    "    bndvi = image.expression ('(nir-blue)/(nir+blue)', {\n",
    "        'nir': image.select ('B8'),  \n",
    "        'blue': image.select ('B2')\n",
    "        }).rename(\"BNDVI\")\n",
    "    image = image.addBands(bndvi)\n",
    "\n",
    "    return(image)\n",
    "\n",
    "# Visualisation BNDVI\n",
    "bndvi = getbndvi(sentinel_2)\n",
    "bndvi = bndvi.select(['BNDVI'])\n",
    "map_bndvi = geemap.Map()\n",
    "map_bndvi.addLayer(bndvi, vis_params, 'BNDVI')\n",
    "map_bndvi.centerObject(zsp,7)\n",
    "map_bndvi"
   ]
  },
  {
   "cell_type": "markdown",
   "id": "43be4054-88aa-4d45-a861-8fc2daa524a8",
   "metadata": {},
   "source": [
    "### 14. Green Normalized Difference Vegetation Index\n",
    "#### GNDVI=((B8-B3))/((B8+B3))"
   ]
  },
  {
   "cell_type": "code",
   "execution_count": 24,
   "id": "ff2bec19-7739-420c-8a25-3b256258d2d3",
   "metadata": {},
   "outputs": [
    {
     "data": {
      "application/vnd.jupyter.widget-view+json": {
       "model_id": "e37b29c25a5043a6af181d4a45e8b537",
       "version_major": 2,
       "version_minor": 0
      },
      "text/plain": [
       "Map(center=[14.888344806144062, -14.207072727106443], controls=(WidgetControl(options=['position', 'transparen…"
      ]
     },
     "metadata": {},
     "output_type": "display_data"
    }
   ],
   "source": [
    "def getgndvi(image):\n",
    "    # Calculer le GNDVI à l'aide de cette expression.\n",
    "    gndvi = image.expression ('(nir-green)/(nir+green)', {\n",
    "        'nir': image.select ('B8'),  \n",
    "        'green': image.select ('B3')\n",
    "        }).rename(\"GNDVI\")\n",
    "    image = image.addBands(gndvi)\n",
    "\n",
    "    return(image)\n",
    "\n",
    "# Visualisation GNDVI\n",
    "gndvi = getgndvi(sentinel_2)\n",
    "gndvi = gndvi.select(['GNDVI'])\n",
    "map_gndvi = geemap.Map()\n",
    "map_gndvi.addLayer(gndvi, vis_params, 'GNDVI')\n",
    "map_gndvi.centerObject(zsp,7)\n",
    "map_gndvi"
   ]
  },
  {
   "cell_type": "markdown",
   "id": "85920e0c-4838-49c1-8c8b-c59a63854e8f",
   "metadata": {},
   "source": [
    "### 15. Standardized Normalized Difference Vegetation Index\n",
    "#### SNDVI=((B8-B4))/((B4+B8+0,16))"
   ]
  },
  {
   "cell_type": "code",
   "execution_count": 25,
   "id": "5ab36cbf-e154-4bbc-813c-6265357186a0",
   "metadata": {},
   "outputs": [
    {
     "data": {
      "application/vnd.jupyter.widget-view+json": {
       "model_id": "dd91db21284a4ec3a6ba254d9f636c64",
       "version_major": 2,
       "version_minor": 0
      },
      "text/plain": [
       "Map(center=[14.888344806144062, -14.207072727106443], controls=(WidgetControl(options=['position', 'transparen…"
      ]
     },
     "metadata": {},
     "output_type": "display_data"
    }
   ],
   "source": [
    "def getsndvi(image):\n",
    "    # Calculer le SNDVI à l'aide de cette expression.\n",
    "    sndvi = image.expression ('(nir-red)/(nir+red+0.16)', {\n",
    "        'nir': image.select ('B8'),  \n",
    "        'red': image.select ('B4')\n",
    "        }).rename(\"SNDVI\")\n",
    "    image = image.addBands(sndvi)\n",
    "\n",
    "    return(image)\n",
    "\n",
    "# Visualisation SNDVI\n",
    "sndvi = getsndvi(sentinel_2)\n",
    "sndvi = sndvi.select(['SNDVI'])\n",
    "map_sndvi = geemap.Map()\n",
    "map_sndvi.addLayer(sndvi, vis_params, 'SNDVI')\n",
    "map_sndvi.centerObject(zsp,7)\n",
    "map_sndvi"
   ]
  },
  {
   "cell_type": "markdown",
   "id": "86e3eed5-1f51-436d-9288-638b88d32524",
   "metadata": {},
   "source": [
    "### 16. Infrared Percentage Vegetation Index\n",
    "#### IPVI=B8/((B8+B4))"
   ]
  },
  {
   "cell_type": "code",
   "execution_count": 26,
   "id": "1730bc8b-9fc1-4654-a467-c0fb8a990a10",
   "metadata": {},
   "outputs": [
    {
     "data": {
      "application/vnd.jupyter.widget-view+json": {
       "model_id": "64c45e0734c8419f90876028168684c1",
       "version_major": 2,
       "version_minor": 0
      },
      "text/plain": [
       "Map(center=[14.888344806144062, -14.207072727106443], controls=(WidgetControl(options=['position', 'transparen…"
      ]
     },
     "metadata": {},
     "output_type": "display_data"
    }
   ],
   "source": [
    "def getipvi(image):\n",
    "    # Calculer le IPVI à l'aide de cette expression.\n",
    "    ipvi = image.expression ('(nir)/(nir+red)', {\n",
    "        'nir': image.select ('B8'),  \n",
    "        'red': image.select ('B4')\n",
    "        }).rename(\"IPVI\")\n",
    "    image = image.addBands(ipvi)\n",
    "\n",
    "    return(image)\n",
    "\n",
    "# Visualisation IPVI\n",
    "ipvi = getipvi(sentinel_2)\n",
    "ipvi = ipvi.select(['IPVI'])\n",
    "map_ipvi = geemap.Map()\n",
    "map_ipvi.addLayer(ipvi, vis_params, 'IPVI')\n",
    "map_ipvi.centerObject(zsp,7)\n",
    "map_ipvi"
   ]
  },
  {
   "cell_type": "markdown",
   "id": "566a86ea-cf9a-48df-a1bd-79e76c6d6425",
   "metadata": {},
   "source": [
    "### 17. Green Vegetation Index\n",
    "#### VIgreen=((B3-B4))/((B3+B4))"
   ]
  },
  {
   "cell_type": "code",
   "execution_count": 27,
   "id": "e8274cbd-d380-4a4f-9c52-45dbaeb2e92b",
   "metadata": {},
   "outputs": [
    {
     "data": {
      "application/vnd.jupyter.widget-view+json": {
       "model_id": "14a817212ed24f539df1feeec864b1c4",
       "version_major": 2,
       "version_minor": 0
      },
      "text/plain": [
       "Map(center=[14.888344806144062, -14.207072727106443], controls=(WidgetControl(options=['position', 'transparen…"
      ]
     },
     "metadata": {},
     "output_type": "display_data"
    }
   ],
   "source": [
    "def getvigreen(image):\n",
    "    # Calculer le VIgreen à l'aide de cette expression.\n",
    "    vigreen = image.expression ('(green-red)/(green+red)', {\n",
    "        'green': image.select ('B3'),  \n",
    "        'red': image.select ('B4')\n",
    "        }).rename(\"VIgreen\")\n",
    "    image = image.addBands(vigreen)\n",
    "\n",
    "    return(image)\n",
    "\n",
    "# Visualisation VIgreen\n",
    "vigreen = getvigreen(sentinel_2)\n",
    "vigreen = vigreen.select(['VIgreen'])\n",
    "map_vigreen = geemap.Map()\n",
    "map_vigreen.addLayer(vigreen, vis_params, 'VIgreen')\n",
    "map_vigreen.centerObject(zsp,7)\n",
    "map_vigreen"
   ]
  },
  {
   "cell_type": "markdown",
   "id": "e8cfd602-59fb-437d-890d-8687eba5d5d0",
   "metadata": {},
   "source": [
    "# Spatialisation des paramètres de qualité\n",
    "## 1. Fourrage herbacé"
   ]
  },
  {
   "cell_type": "markdown",
   "id": "7aa1bde1-8e04-4ed7-b29f-77b1833f55bc",
   "metadata": {},
   "source": [
    "## 1.1. Fibre au Détergent Acide (ADF)"
   ]
  },
  {
   "cell_type": "code",
   "execution_count": 91,
   "id": "f5fd1d51-921e-4fc3-9af0-5ff0abf6b26d",
   "metadata": {},
   "outputs": [],
   "source": [
    "# application de l'équation de ADF\n",
    "ADF = grci.multiply(-141.51).add(ndsvi.multiply(55.38)).subtract(rvi2.multiply(33.60)).add(86.61).rename(\"ADF_QUALITY\")"
   ]
  },
  {
   "cell_type": "code",
   "execution_count": 93,
   "id": "83318546-bf5b-4a8a-be3b-0ba4459135ef",
   "metadata": {},
   "outputs": [
    {
     "data": {
      "application/vnd.jupyter.widget-view+json": {
       "model_id": "2f735c1fcff24893af89ffbd5f62fda8",
       "version_major": 2,
       "version_minor": 0
      },
      "text/plain": [
       "Map(center=[14.88834476838222, -14.207072748536515], controls=(WidgetControl(options=['position', 'transparent…"
      ]
     },
     "metadata": {},
     "output_type": "display_data"
    }
   ],
   "source": [
    "# Visualisation de l'ADF\n",
    "map_adf = geemap.Map()\n",
    "map_adf.addLayer(image_clipped, vis_params, 'ADF')\n",
    "map_adf.centerObject(zsp,7)\n",
    "map_adf"
   ]
  },
  {
   "cell_type": "code",
   "execution_count": 102,
   "id": "af882b36-7517-4a55-9d39-3bd61535135e",
   "metadata": {},
   "outputs": [],
   "source": [
    "# Exporter l'image dans le drive\n",
    "geemap.ee_export_image_to_drive(\n",
    "    image=image_clipped, description='ADF_quality_M2', folder='quality_forage', region=zsp, scale=10)"
   ]
  },
  {
   "cell_type": "markdown",
   "id": "92a70299-21ab-48d1-a9f6-ecc187f83da7",
   "metadata": {},
   "source": [
    "## 1.2. Matière Azotée Totale (MAT)"
   ]
  },
  {
   "cell_type": "code",
   "execution_count": 50,
   "id": "64bbf5da-2e51-498b-9c0d-fe70d913b953",
   "metadata": {},
   "outputs": [],
   "source": [
    "# application de l'équation de MAT\n",
    "MAT = ipvi.multiply(-23.68).subtract(vigreen.multiply(14.89)).add(15.07).rename(\"MAT_QUALITY\")"
   ]
  },
  {
   "cell_type": "code",
   "execution_count": 51,
   "id": "99b93be0-ecee-49e5-a1f0-0e432af3ca9e",
   "metadata": {},
   "outputs": [
    {
     "data": {
      "application/vnd.jupyter.widget-view+json": {
       "model_id": "33350f260b764f1586ed20948d33b5b2",
       "version_major": 2,
       "version_minor": 0
      },
      "text/plain": [
       "Map(center=[14.888344806144062, -14.207072727106443], controls=(WidgetControl(options=['position', 'transparen…"
      ]
     },
     "metadata": {},
     "output_type": "display_data"
    }
   ],
   "source": [
    "# Visualisation de la MAT\n",
    "map_mat = geemap.Map()\n",
    "map_mat.addLayer(MAT, vis_params, 'MAT')\n",
    "map_mat.centerObject(zsp,7)\n",
    "map_mat"
   ]
  },
  {
   "cell_type": "code",
   "execution_count": 52,
   "id": "1df94b5c-1413-4d13-96b0-ce02f53b4ba4",
   "metadata": {},
   "outputs": [],
   "source": [
    "# Exporter l'image dans le drive\n",
    "geemap.ee_export_image_to_drive(\n",
    "    MAT, description='MAT_quality_M2', folder='quality_forage', region=zsp, scale=10\n",
    ")"
   ]
  },
  {
   "cell_type": "markdown",
   "id": "7d92a67f-2ca9-464f-8235-c906c0234a1b",
   "metadata": {},
   "source": [
    "## 1.3. Digestibilité en Matière Sèche (SMO)"
   ]
  },
  {
   "cell_type": "code",
   "execution_count": 53,
   "id": "fc86c15c-6180-46a6-9c8a-e7c7e8e54f93",
   "metadata": {},
   "outputs": [],
   "source": [
    "# application de l'équation de SMO\n",
    "SMO = grci.multiply(91.13).subtract(ndsvi.multiply(41.22)).add(19.46).rename(\"SMO_QUALITY\")"
   ]
  },
  {
   "cell_type": "code",
   "execution_count": 54,
   "id": "f298cb9a-2ad4-48a6-b520-3b454c8bd636",
   "metadata": {},
   "outputs": [
    {
     "data": {
      "application/vnd.jupyter.widget-view+json": {
       "model_id": "323c169e913e43bc9ed5fb91b0cebc07",
       "version_major": 2,
       "version_minor": 0
      },
      "text/plain": [
       "Map(center=[14.888344806144062, -14.207072727106443], controls=(WidgetControl(options=['position', 'transparen…"
      ]
     },
     "metadata": {},
     "output_type": "display_data"
    }
   ],
   "source": [
    "# Visualisation de la SMO\n",
    "map_smo = geemap.Map()\n",
    "map_smo.addLayer(SMO, vis_params, 'SMO')\n",
    "map_smo.centerObject(zsp,7)\n",
    "map_smo"
   ]
  },
  {
   "cell_type": "code",
   "execution_count": 55,
   "id": "411aac1a-abc0-4249-ae03-ad514c8ebd4c",
   "metadata": {},
   "outputs": [],
   "source": [
    "# Exporter l'image dans le drive\n",
    "geemap.ee_export_image_to_drive(\n",
    "    SMO, description='SMO_quality_M2', folder='quality_forage', region=zsp, scale=10\n",
    ")"
   ]
  },
  {
   "cell_type": "markdown",
   "id": "dabbb1b8-4485-4c5c-9f57-c6450b66afa2",
   "metadata": {},
   "source": [
    "## 1.4. Cellulose Brute (CBW)"
   ]
  },
  {
   "cell_type": "code",
   "execution_count": 56,
   "id": "d35c57a6-55f6-45fc-9a13-e5e750674447",
   "metadata": {},
   "outputs": [],
   "source": [
    "# application de l'équation de CBW\n",
    "CBW = tcari.multiply(13.56).subtract(grci.multiply(64.29)).add(59.81).rename(\"CBW_QUALITY\")"
   ]
  },
  {
   "cell_type": "code",
   "execution_count": 57,
   "id": "87a450ee-2b32-47dc-8660-fa2c4fb84683",
   "metadata": {},
   "outputs": [
    {
     "data": {
      "application/vnd.jupyter.widget-view+json": {
       "model_id": "aa848f6d71ac402f9e11856a414ea798",
       "version_major": 2,
       "version_minor": 0
      },
      "text/plain": [
       "Map(center=[14.888344806144062, -14.207072727106443], controls=(WidgetControl(options=['position', 'transparen…"
      ]
     },
     "metadata": {},
     "output_type": "display_data"
    }
   ],
   "source": [
    "# Visualisation de la CBW\n",
    "map_CBW = geemap.Map()\n",
    "map_CBW.addLayer(CBW, vis_params, 'CBW')\n",
    "map_CBW.centerObject(zsp,7)\n",
    "map_CBW"
   ]
  },
  {
   "cell_type": "code",
   "execution_count": 82,
   "id": "6113eba0-3d6c-4be5-ad1f-5223a5e8e390",
   "metadata": {},
   "outputs": [],
   "source": [
    "# Exporter l'image dans le drive\n",
    "geemap.ee_export_image_to_drive(\n",
    "    CBW, description='CBW_quality_M2', folder='quality_forage', region=zsp, scale=10\n",
    ")"
   ]
  },
  {
   "cell_type": "markdown",
   "id": "6f33c614-bde7-4da3-ae6e-52370e13ff77",
   "metadata": {},
   "source": [
    "## 2. Fourrage ligneux"
   ]
  },
  {
   "cell_type": "markdown",
   "id": "fc815ca1-0a7f-490c-9d7a-8112e32d0a75",
   "metadata": {},
   "source": [
    "## 2.1. La Fibre au Détergent Acide (ADF)"
   ]
  },
  {
   "cell_type": "code",
   "execution_count": null,
   "id": "51091f87-1e91-4fea-a7ba-7f13b7ef1d12",
   "metadata": {},
   "outputs": [],
   "source": [
    "# Application de l'équation de l'ADF\n",
    "adf_quality_f = dfi.multiply(-0.6722).add(ndvi.multiply(174.2272)).subtract(grci.multiply(47.5443)).subtract(ndsvi.multiply(133.8579)).subtract(tcari.multiply(160.8079)).add(83.5918).rename(\"ADF_QUALITY_F\");"
   ]
  },
  {
   "cell_type": "code",
   "execution_count": null,
   "id": "1df831c6-cd42-4078-acc4-a2ff492a9aab",
   "metadata": {},
   "outputs": [],
   "source": [
    "# Visualisation de l'ADF\n",
    "map_adf_f = geemap.Map()\n",
    "map_adf_f.addLayer(image_clipped, vis_params, 'ADF_F')\n",
    "map_adf_f.centerObject(zsp,7)\n",
    "map_adf_f"
   ]
  },
  {
   "cell_type": "code",
   "execution_count": null,
   "id": "b925c9ed-e61d-4c6d-a35d-87f69361e4e9",
   "metadata": {},
   "outputs": [],
   "source": [
    "# Exporter l'image dans le drive\n",
    "geemap.ee_export_image_to_drive(\n",
    "    image=image_clipped, description='ADF_quality_F_M2', folder='quality_forage', region=zsp, scale=10)"
   ]
  },
  {
   "cell_type": "markdown",
   "id": "f2e7aa90-e129-45ff-b368-13bf95b5b947",
   "metadata": {},
   "source": [
    "## 2.2. La Matière Azotée Totale (MAT)"
   ]
  },
  {
   "cell_type": "code",
   "execution_count": null,
   "id": "a5d4789b-0dc3-425c-94a8-4843ea77dad0",
   "metadata": {},
   "outputs": [],
   "source": [
    "# Application de l'équation de la MAT\n",
    "mat_quality_f = ndi_5.multiply(-45.82).subtract(ndsvi.multiply(27.71)).add(tcari.multiply(49.40)).subtract(rvi2.multiply(26.90)).add(26.11).rename(\"MAT_QUALITY_F\");"
   ]
  },
  {
   "cell_type": "code",
   "execution_count": null,
   "id": "f5607bea-34c8-472d-af10-92c8263a3dca",
   "metadata": {},
   "outputs": [],
   "source": [
    "# Visualisation de la MAT\n",
    "map_mat_f = geemap.Map()\n",
    "map_mat_f.addLayer(CBW, vis_params, 'MAT_F')\n",
    "map_mat_f.centerObject(zsp,7)\n",
    "map_mat_f"
   ]
  },
  {
   "cell_type": "code",
   "execution_count": null,
   "id": "b67dfe66-297f-4075-a67d-422c8d7406da",
   "metadata": {},
   "outputs": [],
   "source": [
    "# Exporter l'image dans le drive\n",
    "geemap.ee_export_image_to_drive(\n",
    "    image=image_clipped, description='MAT_quality_F_M2', folder='quality_forage', region=zsp, scale=10)"
   ]
  }
 ],
 "metadata": {
  "kernelspec": {
   "display_name": "Python 3 (ipykernel)",
   "language": "python",
   "name": "python3"
  },
  "language_info": {
   "codemirror_mode": {
    "name": "ipython",
    "version": 3
   },
   "file_extension": ".py",
   "mimetype": "text/x-python",
   "name": "python",
   "nbconvert_exporter": "python",
   "pygments_lexer": "ipython3",
   "version": "3.8.10"
  }
 },
 "nbformat": 4,
 "nbformat_minor": 5
}
